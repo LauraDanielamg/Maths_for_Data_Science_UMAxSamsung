{
 "cells": [
  {
   "cell_type": "markdown",
   "id": "33388ed7",
   "metadata": {},
   "source": [
    "# Extra: List Comprehension\n",
    "\n",
    "## ¿Qué es una List Comprehension?\n",
    "\n",
    "Las List Comprehensions, o comprensiones de listas, son una forma concisa y elegante de crear listas en Python. Esta técnica permite construir listas utilizando una sintaxis más legible y eficiente. En lugar de utilizar bucles tradicionales, puedes usar una sola línea de código para crear listas con facilidad.\n",
    "\n",
    "### Sintaxis básica:\n",
    "\n",
    "La sintaxis general de una List Comprehension es la siguiente:\n",
    "\n",
    "```\n",
    "nueva_lista = [expresión for elemento in iterable]\n",
    "```\n",
    "\n",
    "Donde:\n",
    "\n",
    "* *nueva_lista:* es la lista que estamos construyendo.\n",
    "* *expresión:* es la expresión que define cómo se calcula cada elemento de la nueva lista.\n",
    "* *elemento:* es una variable que toma el valor de cada elemento en el iterable.\n",
    "* *iterable:* es la secuencia de elementos de la cual se construye la nueva lista.\n",
    "\n",
    "Vamos a ver algunos ejempos:"
   ]
  },
  {
   "cell_type": "code",
   "execution_count": 2,
   "id": "cac9d18d",
   "metadata": {},
   "outputs": [
    {
     "name": "stdout",
     "output_type": "stream",
     "text": [
      "[1, 4, 9, 16, 25]\n"
     ]
    }
   ],
   "source": [
    "#Creamos una lista de cuadrados del 1 al 5\n",
    "cuadrados = [x**2 for x in range(1, 6)]\n",
    "print(cuadrados)"
   ]
  },
  {
   "cell_type": "code",
   "execution_count": 4,
   "id": "dabbc8fc",
   "metadata": {},
   "outputs": [
    {
     "name": "stdout",
     "output_type": "stream",
     "text": [
      "[2, 4, 6, 8, 10]\n"
     ]
    }
   ],
   "source": [
    "#Vamos a filtrar los elementos pares en una lista:\n",
    "numeros = [1, 2, 3, 4, 5, 6, 7, 8, 9, 10]\n",
    "pares = [x for x in numeros if x % 2 == 0]\n",
    "print(pares)"
   ]
  },
  {
   "cell_type": "code",
   "execution_count": 5,
   "id": "09bc0ca9",
   "metadata": {},
   "outputs": [
    {
     "name": "stdout",
     "output_type": "stream",
     "text": [
      "['HOLA', 'PYTHON', 'LIST', 'COMPREHENSIONS']\n"
     ]
    }
   ],
   "source": [
    "#¿Convertimos una lista de palabras a mayusculas?\n",
    "\n",
    "palabras = [\"hola\", \"python\", \"list\", \"comprehensions\"]\n",
    "mayusculas = [palabra.upper() for palabra in palabras]\n",
    "print(mayusculas)"
   ]
  },
  {
   "cell_type": "code",
   "execution_count": null,
   "id": "36babad3",
   "metadata": {},
   "outputs": [],
   "source": []
  }
 ],
 "metadata": {
  "kernelspec": {
   "display_name": "Python 3 (ipykernel)",
   "language": "python",
   "name": "python3"
  },
  "language_info": {
   "codemirror_mode": {
    "name": "ipython",
    "version": 3
   },
   "file_extension": ".py",
   "mimetype": "text/x-python",
   "name": "python",
   "nbconvert_exporter": "python",
   "pygments_lexer": "ipython3",
   "version": "3.11.4"
  }
 },
 "nbformat": 4,
 "nbformat_minor": 5
}
