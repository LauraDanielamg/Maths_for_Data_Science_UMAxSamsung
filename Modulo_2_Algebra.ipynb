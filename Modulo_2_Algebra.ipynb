{
 "cells": [
  {
   "cell_type": "markdown",
   "id": "c7bafd74",
   "metadata": {},
   "source": [
    "# Modulo 2: Matemáticas para Data Science - Parte 2\n",
    "\n",
    "## Algebra\n",
    "\n",
    "# Introducción al Álgebra y su Aplicación en Python para Ciencia de Datos\n",
    "\n",
    "## 1. Introducción al Álgebra\n",
    "\n",
    "- **Concepto de Expresión Matemática**:\n",
    "\n",
    "En matemáticas, una expresión es una combinación de números, variables y operadores matemáticos. Por ejemplo, consideremos la expresión matemática:\n",
    "\n",
    "  $3x^2+2x-1$\n",
    " \n",
    "* '3', '2', y '-1' son coeficientes o constantes.\n",
    "* 'x' es una variable.\n",
    "* '^' representa la potenciación.\n",
    "* '+' y '-' son operadores de suma y resta, respectivamente.\n",
    "\n",
    "Veamos cómo representar la expresión matemática anterior en Python:"
   ]
  },
  {
   "cell_type": "code",
   "execution_count": 1,
   "id": "37b93632",
   "metadata": {},
   "outputs": [
    {
     "name": "stdout",
     "output_type": "stream",
     "text": [
      "Introduce un valor para x: 2\n",
      "15\n"
     ]
    }
   ],
   "source": [
    "# Definición de constantes\n",
    "a = 3\n",
    "b = 2\n",
    "c = -1\n",
    "#Definición de variable (vamos a permitir introducirlo por teclado, por ejemplo un 2)\n",
    "x = int(input(\"Introduce un valor para x: \")) \n",
    "\n",
    "resultado = a * x**2 + b * x + c\n",
    "print(resultado)"
   ]
  },
  {
   "cell_type": "markdown",
   "id": "fc09c6e2",
   "metadata": {},
   "source": [
    "Como vemos, en Python, podemos hacer uso de expresiones matemáticas tal como lo haríamos en papel y lápiz. Estas expresiones luego nos permitirán hacer calculos o análisis más complejos que nos permiten desde luego aplicar la ciencia de Datos.\n",
    "\n",
    "- **Composición de una expresión matemática**\n",
    "\n",
    "**Equality (Igualdad)**:\n",
    "  - Una igualdad es una afirmación de que dos expresiones matemáticas tienen el mismo valor. Ejemplo: \n",
    "  \n",
    "  $2x + 3 = 7$\n",
    "  \n",
    "Vamos a usar python para comprobar esto: \n",
    "  "
   ]
  },
  {
   "cell_type": "code",
   "execution_count": 18,
   "id": "4c5a085e",
   "metadata": {},
   "outputs": [
    {
     "name": "stdout",
     "output_type": "stream",
     "text": [
      "Para x = 2 la igualdad es verdadera\n"
     ]
    }
   ],
   "source": [
    "x = 2\n",
    "lado_izquierdo = 2*x + 3\n",
    "lado_derecho = 7\n",
    "\n",
    "es_igual = lado_izquierdo == lado_derecho\n",
    "\n",
    "if es_igual:\n",
    "    print(f\"Para x = {x} la igualdad es verdadera\")\n",
    "else:\n",
    "    print(f\"Para x = {x} igualdad es falsa\")"
   ]
  },
  {
   "cell_type": "markdown",
   "id": "bde8886c",
   "metadata": {},
   "source": [
    "*Nota: ¿Es una igualdad un booleano? Razónalo* \n",
    "\n",
    "**Equation (Ecuación)**:\n",
    "  - Una ecuación es una igualdad que contiene una o más incógnitas. Ejemplo: \n",
    "  \n",
    "  $2x + 3 = y$\n",
    "  \n",
    "Lo resolvemos en Python:"
   ]
  },
  {
   "cell_type": "code",
   "execution_count": 19,
   "id": "60cc5667",
   "metadata": {},
   "outputs": [
    {
     "name": "stdout",
     "output_type": "stream",
     "text": [
      "Introduce un valor para x: 4\n",
      "Introduce un valor para y: 11\n",
      "La ecuación es verdadera para x=4, y=11\n"
     ]
    }
   ],
   "source": [
    "x = int(input(\"Introduce un valor para x: \")) #Hint: 4\n",
    "y = int(input(\"Introduce un valor para y: \")) #Hint: 11\n",
    "\n",
    "es_ecuacion = 2*x + 3 == y\n",
    "\n",
    "if es_ecuacion:\n",
    "    print(f\"La ecuación es verdadera para x={x}, y={y}\")\n",
    "else:\n",
    "    print(f\"La ecuación es falsa para x={x}, y={y}\")"
   ]
  },
  {
   "cell_type": "markdown",
   "id": "a22dc356",
   "metadata": {},
   "source": [
    "**Identity (Identidad)**:\n",
    "  - Una identidad es una igualdad que es cierta para cualquier valor de las variables involucradas. Ejemplo: \n",
    "  \n",
    "  $(x + y)^2 = x^2 + 2xy + y^2$"
   ]
  },
  {
   "cell_type": "code",
   "execution_count": null,
   "id": "5033bb5a",
   "metadata": {},
   "outputs": [],
   "source": [
    "import sympy as sp #Voy a usar sympy, luego os hago un notebook sobre librerías, lo prometo"
   ]
  },
  {
   "cell_type": "code",
   "execution_count": 21,
   "id": "57f3dfb8",
   "metadata": {},
   "outputs": [
    {
     "name": "stdout",
     "output_type": "stream",
     "text": [
      "La identidad es cierta para cualquier valor de x e y\n"
     ]
    }
   ],
   "source": [
    "x, y = sp.symbols('x y')\n",
    "identidad_izquierda = (x + y)**2\n",
    "identidad_derecha = x**2 + 2*x*y + y**2\n",
    "\n",
    "# Comprobación de la identidad\n",
    "es_identidad = sp.simplify(identidad_izquierda - identidad_derecha) == 0 #Piensa y escribe que hace la función simplify\n",
    "\n",
    "if es_identidad:\n",
    "    print(\"La identidad es cierta para cualquier valor de x e y\")\n",
    "else:\n",
    "    print(\"La identidad no es cierta para algunos valores de x e y\")"
   ]
  },
  {
   "cell_type": "markdown",
   "id": "0e799595",
   "metadata": {},
   "source": [
    "## 2. Ecuaciones Algebraicas\n",
    "\n",
    "Una expresión algebraica es una combinación de variables, números y operadores matemáticos, como suma, resta, multiplicación, división, potenciación, y radicación. Estas expresiones se utilizan para representar matemáticamente una relación o cálculo, pero generalmente no se resuelven hasta que se asignan valores específicos a las variables. Las expresiones algebraicas se utilizan comúnmente en álgebra y matemáticas para modelar situaciones y resolver problemas."
   ]
  },
  {
   "cell_type": "code",
   "execution_count": 22,
   "id": "9296eb82",
   "metadata": {},
   "outputs": [],
   "source": [
    "# Definición de una expresión algebraica\n",
    "expresion = 2 * x + 3\n",
    "\n",
    "# En este caso, 'expresion' es una expresión algebraica que representa 2x + 3.\n",
    "# La variable 'x' es una incógnita que se puede asignar a un valor específico más tarde.\n",
    "#Intenta resolverlo para que sea igual a 7 usando código ;)"
   ]
  },
  {
   "cell_type": "markdown",
   "id": "f9be9c19",
   "metadata": {},
   "source": [
    "En matemáticas y ciencia, las variables se dividen comúnmente en dos categorías: variables independientes y variables dependientes. Aquí ejemplos de ambas:\n",
    "\n",
    "- **Variable Independiente**\n",
    "\n",
    "La variable independiente es la que se elige o manipula deliberadamente en un experimento o en un modelo matemático. En una ecuación o relación matemática, la variable independiente es aquella que puede cambiar libremente. Ejemplo:\n",
    "\n",
    "Si estamos estudiando la velocidad de un automóvil en función del tiempo, el tiempo sería la variable independiente. Podemos decidir cuánto tiempo queremos medir y observar cómo cambia la velocidad a lo largo del tiempo. En una ecuación, la variable independiente generalmente se representa con \"x\". Por ejemplo, en una ecuación de velocidad, podríamos tener algo como:\n",
    "\n",
    "$V(t)=2t$\n",
    "\n",
    "Donde:\n",
    "\n",
    "$V(t)$ es la velocidad del automóvil en función del tiempo $t$.\n",
    "\n",
    "$t$ es la variable independiente (tiempo).\n",
    "\n",
    "$2t$ representa una relación entre la velocidad y el tiempo.\n",
    "\n",
    "- **Variable independiente**\n",
    "\n",
    "La variable dependiente es aquella que responde a la variable independiente. En otras palabras, es el resultado o el valor que depende de cómo cambie la variable independiente. \n",
    "\n",
    "Siguiendo con el ejemplo anterior, si la velocidad del automóvil depende del tiempo, entonces la velocidad sería la variable dependiente. En la ecuación $V(t) = 2t$, la velocidad es la variable dependiente, y su valor depende del valor de la variable independiente (tiempo $t$).\n",
    "\n",
    "La variable independiente y la variable dependiente son conceptos fundamentales en la representación y el análisis de relaciones matemáticas y científicas. La variable independiente se controla o se elige deliberadamente, mientras que la variable dependiente se mide o se observa en respuesta a los cambios en la variable independiente.\n",
    "\n",
    "- **¿Qué es una Ecuación Polinómica?**:\n",
    " \n",
    " Una ecuación polinómica es una ecuación en la que las incógnitas se combinan mediante operaciones de suma, resta y multiplicación, pero no división. Ejemplo: \n",
    " \n",
    " $2x^2 + 3x - 4 = 0$. \n",
    " \n",
    " **PREGUNTA** *¿La ecuación del ejemplo anterior es polinómica?*\n",
    " \n",
    "\n",
    "- **Términos**\n",
    " \n",
    " Un \"término\" en matemáticas se refiere a una parte o componente individual de una expresión algebraica o polinómica. Un término puede consistir en una constante, una variable, o la multiplicación de ambas, y puede incluir coeficientes (números que multiplican las variables) y exponentes (potencias a las que se elevan las variables).\n",
    "\n",
    "Por ejemplo, en la ecuación polinómica $2x^2 + 3x - 4 = 0$:\n",
    "\n",
    "- $2x^2$ es un término, donde 2 es el coeficiente, $x$ es la variable y 2 es el exponente.\n",
    "- $3x$ es otro término, con 3 como coeficiente y $x$ como variable (con un exponente implícito de 1).\n",
    "- $-4$ es un tercer término, que consiste en una constante.\n",
    "\n",
    "En resumen, un término es una parte individual de una expresión matemática o polinómica que se combina con otros términos mediante operaciones de suma o resta para formar una ecuación o expresión más compleja.\n",
    "\n",
    "*NOTA:* \n",
    "\n",
    "Cuando tienes términos en una expresión algebraica donde una variable se multiplica por sí misma o se multiplica por otras variables, los exponentes de esas variables se suman si están elevados a la misma potencia. Esto se basa en la propiedad de las potencias de variables. Vamos a verlo en código:"
   ]
  },
  {
   "cell_type": "code",
   "execution_count": 24,
   "id": "72cda139",
   "metadata": {},
   "outputs": [
    {
     "name": "stdout",
     "output_type": "stream",
     "text": [
      "Los resultados son iguales: 32 = 32\n"
     ]
    }
   ],
   "source": [
    "#Consideramos la siguiente expresión matemática:\n",
    "x = 2\n",
    "\n",
    "resultado = x**2 * x**3\n",
    "\n",
    "# En este caso, estamos multiplicando x al cuadrado por x al cubo, \n",
    "# lo que se representa como x**2 * x**3, es decir, podemos agregar los exponentes de x:\n",
    "\n",
    "#Esta expresión sería igual a la anterior pereo simplificada\n",
    "resultado_simplificado = x**5\n",
    "\n",
    "if resultado == resultado_simplificado:\n",
    "    print(f\"Los resultados son iguales: {resultado} = {resultado_simplificado}\")\n",
    "else:\n",
    "    print(f\"Los resultados no son iguales: {resultado} ≠ {resultado_simplificado}\")"
   ]
  },
  {
   "cell_type": "markdown",
   "id": "75799786",
   "metadata": {},
   "source": [
    "- **Ecuaciones de Primer Grado (Lineales)**\n",
    "\n",
    "Una ecuación de primer grado es una ecuación polinómica de la forma $ax + b = 0$, donde $a$ y $b$ son coeficientes y $a \\neq 0$.\n",
    "  \n",
    "- Resolución de Ecuaciones de Primer Grado:\n",
    "\n",
    "Para resolver una ecuación lineal, puedes aislar la variable $x$ de la siguiente manera:\n",
    "  \n",
    "  $$x = -\\frac{b}{a}$$\n",
    "  \n",
    "  Donde:\n",
    "  - $a$ es el coeficiente de $x$.\n",
    "  - $b$ es el término independiente.\n",
    "  \n",
    "¿Resolvemos una ecuación en python?\n",
    "\n",
    "Por ejemplo $3x - 9 = 0$"
   ]
  },
  {
   "cell_type": "code",
   "execution_count": 25,
   "id": "af595842",
   "metadata": {},
   "outputs": [
    {
     "name": "stdout",
     "output_type": "stream",
     "text": [
      "Solución de la ecuación lineal: 3\n"
     ]
    }
   ],
   "source": [
    "  x = sp.symbols('x')\n",
    "  eq = 3*x - 9\n",
    "  sol = sp.solve(eq, x) #¿Que hace la función solve?\n",
    "  print(\"Solución de la ecuación lineal:\", sol[0])"
   ]
  },
  {
   "cell_type": "markdown",
   "id": "6c52269e",
   "metadata": {},
   "source": [
    "- **Ecuaciones de Segundo Grado:**\n",
    "\n",
    "Una ecuación de segundo grado es una ecuación polinómica de la forma $ax^2 + bx + c = 0$, donde $a$, $b$ y $c$ son coeficientes y $a \\neq 0$.\n",
    "  \n",
    "- Resolución de Ecuaciones de Segundo Grado:\n",
    "  Para resolver una ecuación cuadrática, puedes utilizar la fórmula general:\n",
    "  \n",
    "  $$x = \\frac{-b \\pm \\sqrt{b^2 - 4ac}}{2a}$$\n",
    "  \n",
    "  Donde:\n",
    "  - $a$, $b$, y $c$ son los coeficientes de la ecuación cuadrática.\n",
    "  - $\\pm$ representa las dos posibles soluciones (una ecuación cuadrática puede tener dos raíces).\n",
    "  - $\\sqrt{}$ denota la raíz cuadrada.\n",
    "  \n",
    "- **Ejemplo de Resolución en Python**:\n",
    "  - Resolver la ecuación cuadrática $2x^2 - 5x + 2 = 0$ en Python.\n",
    "  \n",
    "  ```python\n",
    "  import sympy as sp\n",
    "\n",
    "  x = sp.symbols('x')\n",
    "  eq = 2*x**2 - 5*x + 2\n",
    "  sol = sp.solve(eq, x)\n",
    "  print(\"Soluciones de la ecuación cuadrática:\", sol)\n",
    "\n"
   ]
  },
  {
   "cell_type": "code",
   "execution_count": null,
   "id": "b0ce0d07",
   "metadata": {},
   "outputs": [],
   "source": []
  }
 ],
 "metadata": {
  "kernelspec": {
   "display_name": "Python 3 (ipykernel)",
   "language": "python",
   "name": "python3"
  },
  "language_info": {
   "codemirror_mode": {
    "name": "ipython",
    "version": 3
   },
   "file_extension": ".py",
   "mimetype": "text/x-python",
   "name": "python",
   "nbconvert_exporter": "python",
   "pygments_lexer": "ipython3",
   "version": "3.11.4"
  }
 },
 "nbformat": 4,
 "nbformat_minor": 5
}
