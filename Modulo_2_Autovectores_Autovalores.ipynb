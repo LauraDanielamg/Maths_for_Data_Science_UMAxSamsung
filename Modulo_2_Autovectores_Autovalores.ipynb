{
 "cells": [
  {
   "cell_type": "markdown",
   "id": "1f963557",
   "metadata": {},
   "source": [
    "# Modulo 2: Autovectores y autovalores\n",
    "\n",
    "# Autovectores y Autovalores\n",
    "\n",
    "Los autovectores y autovalores son conceptos fundamentales en álgebra lineal y tienen aplicaciones importantes en diversas áreas, incluyendo la física, la ingeniería y la informática. Estas propiedades matemáticas se utilizan para entender y analizar transformaciones lineales, como la aplicación lineal T en este ejemplo.\n",
    "\n",
    "###  Ahora en español fácil y sencilo para todas las edades: \n",
    "\n",
    "Imagina que tienes un mapa mágico, y este mapa puede mover objetos en el mundo. Un **autovector es como una flecha en el mapa que no cambia su dirección cuando se mueve**. En otras palabras, si tienes un autovector en el mapa y lo mueves, sigue apuntando en la misma dirección que antes.\n",
    "\n",
    "Por ejemplo, si tienes una flecha que apunta hacia el norte en el mapa y lo mueves, seguirá apuntando hacia el norte. Esa flecha en el mapa es como un autovector.\n",
    "\n",
    "Los autovectores son importantes en matemáticas y ciencia porque nos ayudan a entender cómo ciertas transformaciones o cambios afectan a los objetos. En el caso de los autovectores, nos dicen en qué dirección los objetos no cambian cuando se aplica una transformación.\n",
    "\n",
    "Un **autovalor está relacionado con los autovectores y es como una especie de \"magnitud\" o \"cantidad de cambio\"** que se produce cuando aplicas una transformación a un autovector.\n",
    "\n",
    "Siguiendo con la analogía del mapa mágico, un **autovalor sería como un número especial que te dice cuánto se estira o encoge una flecha (autovector)** cuando la transformación actúa sobre ella. Si el autovalor es grande, la flecha se estirará mucho; si es pequeño, se estirará solo un poco, o incluso se podría encoger.\n",
    "\n",
    "### Nos volvemos a poner técnicos entonces: \n",
    "\n",
    "## Autovalores\n",
    "\n",
    "Un autovalor de una matriz (o un operador lineal) es un número que caracteriza cómo se escala un autovector cuando se aplica la matriz o el operador. Es decir, un número λ es un autovalor de una matriz A si existe un vector no nulo v, llamado autovector, tal que la multiplicación de A por v resulta en un vector que es simplemente λ veces v.\n",
    "\n",
    "Matemáticamente, esto se expresa de la siguiente manera:\n",
    "\n",
    "$ A \\cdot v = \\lambda \\cdot v $\n",
    "\n",
    "Donde:\n",
    "- \\( A \\) es la matriz (en nuestro caso, la matriz de la aplicación lineal T).\n",
    "- \\( v \\) es el autovector.\n",
    "- \\( \\lambda \\) es el autovalor.\n",
    "\n",
    "## Autovectores\n",
    "\n",
    "Los autovectores son los vectores asociados a los autovalores y son fundamentales para comprender cómo las matrices o los operadores afectan la dirección y la magnitud de los vectores. Los autovectores son únicos hasta una constante de escala. Esto significa que, si \\( v \\) es un autovector, entonces cualquier múltiplo de \\( v \\) también es un autovector asociado al mismo autovalor \\( \\lambda \\).\n",
    "\n",
    "En el contexto de la aplicación lineal T(x, y) = (2x + y, -x + 3y), los autovectores nos ayudarán a entender cómo T transforma los vectores y, en particular, cómo se escalan.\n",
    "\n",
    "En el siguiente apartado, vamos a calcular los autovalores y autovectores de la aplicación lineal T y verificar que cumplan con las propiedades mencionadas.\n",
    "\n",
    "## Veamos un ejemplo:\n"
   ]
  },
  {
   "cell_type": "code",
   "execution_count": 12,
   "id": "1fdd184e",
   "metadata": {},
   "outputs": [
    {
     "name": "stdout",
     "output_type": "stream",
     "text": [
      "[3.61803399 1.38196601]\n"
     ]
    }
   ],
   "source": [
    "#Vamso a considerar la matriz A\n",
    "A = np.array([[3, 1],\n",
    "              [1, 2]])\n",
    "\n",
    "autovalores, autovectores = np.linalg.eig(A) #Esta función nos devuelve dos argumentos los autovalores y los autovectores\n",
    "\n",
    "#Basicamente el método numpy.linalg.eig() lo hace todo por ti \n",
    "\n",
    "#Veamos que contiene la variable autovalores:\n",
    "\n",
    "print(autovalores) #Hint: Es una lista con los autovalores "
   ]
  },
  {
   "cell_type": "markdown",
   "id": "d3e346fb",
   "metadata": {},
   "source": [
    "Los números que obtuvimos como autovalores, [3.61803399, 1.38196601], tienen significados importantes en el contexto de la matriz A y sus aplicaciones lineales. Cada número representa un autovalor, y aquí está lo que significa:\n",
    "\n",
    "* 3.61803399: Este es el primer autovalor. Indica cuánto se estira (o \"amplía\") el autovector correspondiente cuando se aplica la matriz A. En este caso, significa que el autovector correspondiente se ampliará aproximadamente 3.618 veces en la dirección dada por ese autovector.\n",
    "\n",
    "* 1.38196601: Este es el segundo autovalor. Al igual que el primero, representa cuánto se estira (o \"amplía\") el segundo autovector cuando se aplica la matriz A. En este caso, el autovector correspondiente se ampliará aproximadamente 1.382 veces en su dirección.\n",
    "\n",
    "Cada autovalor te dice cuánto cambia la magnitud de un autovector particular cuando se aplica la matriz. En este ejemplo, la matriz A estira los autovectores en direcciones específicas con los factores de escala dados por los autovalores."
   ]
  },
  {
   "cell_type": "code",
   "execution_count": 11,
   "id": "8711dcbf",
   "metadata": {},
   "outputs": [
    {
     "name": "stdout",
     "output_type": "stream",
     "text": [
      "[[ 0.85065081 -0.52573111]\n",
      " [ 0.52573111  0.85065081]]\n"
     ]
    }
   ],
   "source": [
    "print(autovectores)"
   ]
  },
  {
   "cell_type": "markdown",
   "id": "1bd53ab7",
   "metadata": {},
   "source": [
    "Cada fila en la matriz de autovectores representa un autovector. En este caso, tenemos dos autovectores. Aquí hay una explicación de lo que representan:\n",
    "\n",
    "* El primer autovector [0.85065081, -0.52573111] está asociado al primer autovalor 3.61803399. Esto significa que cuando aplicas la matriz, este autovector se estira (o se contrae) aproximadamente 3.618 veces en su dirección original.\n",
    "\n",
    "* El segundo autovector [0.52573111, 0.85065081] está asociado al segundo autovalor 1.38196601. Esto significa que cuando aplicas la matriz, este autovector se estira (o se contrae) aproximadamente 1.381 veces en su dirección original.\n",
    "\n",
    "Los autovectores nos indican las direcciones en las que los vectores no cambian de dirección, sino que pueden cambiar en magnitud (ampliarse o encogerse) cuando aplicamos la matriz. En este caso, estos autovectores específicos representan las direcciones en las que ocurre ese estiramiento o contracción."
   ]
  },
  {
   "cell_type": "code",
   "execution_count": 9,
   "id": "527eca85",
   "metadata": {},
   "outputs": [
    {
     "name": "stdout",
     "output_type": "stream",
     "text": [
      "Autovalores: [3.61803399 1.38196601]\n",
      "Autovectores:\n",
      "Autovector 1: [0.85065081 0.52573111]\n",
      "Autovector 2: [-0.52573111  0.85065081]\n"
     ]
    }
   ],
   "source": [
    "print(\"Autovalores:\", autovalores)\n",
    "print(\"Autovectores:\")\n",
    "for i in range(len(autovectores)):\n",
    "    print(f\"Autovector {i + 1}:\", autovectores[:, i])"
   ]
  },
  {
   "cell_type": "markdown",
   "id": "49720102",
   "metadata": {},
   "source": [
    "\n",
    "Sea la aplicación lineal T(x,y)=(x',y')=(2x+y,-x+3y). Calcula los autovalores y autovectores de T con Python. Comprobar que realmente son autovalores y autovectores."
   ]
  },
  {
   "cell_type": "code",
   "execution_count": 2,
   "id": "d0972dde",
   "metadata": {},
   "outputs": [],
   "source": [
    "import numpy as np"
   ]
  },
  {
   "cell_type": "code",
   "execution_count": 3,
   "id": "1f68c7bf",
   "metadata": {},
   "outputs": [
    {
     "name": "stdout",
     "output_type": "stream",
     "text": [
      "Autovalores: [2.5+0.8660254j 2.5-0.8660254j]\n",
      "Autovectores:\n",
      "Autovector 1: [0.35355339-0.61237244j 0.70710678+0.j        ]\n",
      "Autovector 2: [0.35355339+0.61237244j 0.70710678-0.j        ]\n"
     ]
    }
   ],
   "source": [
    "# Definir la matriz de la aplicación lineal T\n",
    "T_matrix = np.array([[2, 1],\n",
    "                     [-1, 3]])\n",
    "\n",
    "# Calcular los autovalores y autovectores\n",
    "autovalores, autovectores = np.linalg.eig(T_matrix)\n",
    "\n",
    "# Mostrar los resultados\n",
    "print(\"Autovalores:\", autovalores)\n",
    "print(\"Autovectores:\")\n",
    "for i in range(len(autovectores)):\n",
    "    print(f\"Autovector {i + 1}:\", autovectores[:, i])"
   ]
  },
  {
   "cell_type": "code",
   "execution_count": 4,
   "id": "ac061061",
   "metadata": {},
   "outputs": [
    {
     "name": "stdout",
     "output_type": "stream",
     "text": [
      "El autovector 1 es un autovector con autovalor (2.5+0.8660254037844386j).\n",
      "El autovector 2 es un autovector con autovalor (2.5-0.8660254037844386j).\n"
     ]
    }
   ],
   "source": [
    "# Comprobar que son efectivamente autovalores y autovectores\n",
    "for i in range(len(autovalores)):\n",
    "    lambda_i = autovalores[i]\n",
    "    v_i = autovectores[:, i]\n",
    "    result = np.dot(T_matrix, v_i)\n",
    "    if np.allclose(result, lambda_i * v_i):\n",
    "        print(f\"El autovector {i + 1} es un autovector con autovalor {lambda_i}.\")\n",
    "    else:\n",
    "        print(f\"El autovector {i + 1} NO es un autovector con autovalor {lambda_i}.\")\n"
   ]
  },
  {
   "cell_type": "code",
   "execution_count": 5,
   "id": "01bd74e5",
   "metadata": {},
   "outputs": [
    {
     "name": "stdout",
     "output_type": "stream",
     "text": [
      "Autovalores: [2.61803399 0.38196601]\n",
      "Autovectores:\n",
      "Autovector 1: [0.85065081 0.52573111]\n",
      "Autovector 2: [-0.52573111  0.85065081]\n"
     ]
    }
   ],
   "source": [
    "T_matrix = np.array([[2, 1],\n",
    "                     [1, 1]])\n",
    "\n",
    "autovalores, autovectores = np.linalg.eig(T_matrix)\n",
    "\n",
    "print(\"Autovalores:\", autovalores)\n",
    "print(\"Autovectores:\")\n",
    "for i in range(len(autovectores)):\n",
    "    print(f\"Autovector {i + 1}:\", autovectores[:, i])"
   ]
  },
  {
   "cell_type": "code",
   "execution_count": 6,
   "id": "71ddfeef",
   "metadata": {},
   "outputs": [
    {
     "name": "stdout",
     "output_type": "stream",
     "text": [
      "El autovector 1 es un autovector con autovalor 2.618033988749895.\n",
      "El autovector 2 es un autovector con autovalor 0.3819660112501052.\n"
     ]
    }
   ],
   "source": [
    "for i in range(len(autovalores)):\n",
    "    lambda_i = autovalores[i]\n",
    "    v_i = autovectores[:, i]\n",
    "    result = np.dot(T_matrix, v_i)\n",
    "    if np.allclose(result, lambda_i * v_i):\n",
    "        print(f\"El autovector {i + 1} es un autovector con autovalor {lambda_i}.\")\n",
    "    else:\n",
    "        print(f\"El autovector {i + 1} NO es un autovector con autovalor {lambda_i}.\")"
   ]
  },
  {
   "cell_type": "code",
   "execution_count": null,
   "id": "0b657e60",
   "metadata": {},
   "outputs": [],
   "source": []
  }
 ],
 "metadata": {
  "kernelspec": {
   "display_name": "Python 3 (ipykernel)",
   "language": "python",
   "name": "python3"
  },
  "language_info": {
   "codemirror_mode": {
    "name": "ipython",
    "version": 3
   },
   "file_extension": ".py",
   "mimetype": "text/x-python",
   "name": "python",
   "nbconvert_exporter": "python",
   "pygments_lexer": "ipython3",
   "version": "3.11.4"
  }
 },
 "nbformat": 4,
 "nbformat_minor": 5
}
