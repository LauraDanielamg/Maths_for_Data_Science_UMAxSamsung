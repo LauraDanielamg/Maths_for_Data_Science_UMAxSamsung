{
 "cells": [
  {
   "cell_type": "markdown",
   "id": "ac69fe65",
   "metadata": {},
   "source": [
    "# Extra:  Recursividad\n",
    "\n",
    "## La magia de las funciones que se usan a si mismas.\n",
    "\n",
    "¡¿Qué digo?! ¡¿Funciones que se usan a si mismas?! Pues si, es una particularidad que tienen para hacer algo repetidamente. (De este notebook pueden quedarse con las primeras dos frases y continuar con su vida... Es más un concepto avanzado para nutrir lo que ya sabemos) \n",
    "\n",
    "Aunque la recursividad no es una técnica comunmente utilizada en Data Science, si sirve conocer el concepto para la solución de problemas específicos. \n",
    "\n",
    "Por ejemplo podríamos usarla en:\n",
    "\n",
    "* **Árboles de decisión:** En Machine Learning, los árboles de decisión son estructuras jerárquicas que se utilizan para tomar decisiones basadas en características de datos. La construcción y el análisis de árboles de decisión a menudo involucran la recursión, ya que se dividen los datos en subconjuntos más pequeños en cada nodo del árbol.\n",
    "\n",
    "* **Estructuras de datos recursivas:** En el procesamiento de datos, a veces se trabajan con estructuras de datos recursivas, como listas anidadas o árboles. La recursividad se puede utilizar para recorrer y manipular eficientemente estas estructuras.\n",
    "\n",
    "* **Recursión en análisis de secuencias:** Basicamente la razón por la que estoy escribiendo este notebook: Algunos algoritmos de análisis de secuencias biológicas o de lenguaje natural pueden hacer uso de la recursión para detectar patrones o relaciones en los datos secuenciales.\n",
    "\n",
    "* **Cálculo de números combinatorios:** En estadísticas y probabilidad, los números combinatorios (por ejemplo, combinaciones y permutaciones) pueden calcularse de manera recursiva.\n",
    "\n",
    "* **Modelado de sistemas recursivos:** En ciertas aplicaciones, como el análisis de series temporales, la recursión puede utilizarse para modelar sistemas que tienen una naturaleza recursiva inherente.\n",
    "\n",
    "* **Optimización con técnicas recursivas:** Algunos algoritmos de optimización, como el algoritmo de búsqueda binaria, utilizan recursión para encontrar soluciones eficientes en conjuntos de datos ordenados.\n",
    "\n",
    "No es lo más eficiente pero podría darse el caso de toparnos con algún problema que implique recursión\n",
    "\n",
    "\n",
    "Pero como siempre: Ejemplos antes que teoría.\n",
    "\n",
    "¿Recuerdan cuando calculamos el factorial de un número?"
   ]
  },
  {
   "cell_type": "code",
   "execution_count": 1,
   "id": "7e503bfa",
   "metadata": {},
   "outputs": [
    {
     "name": "stdout",
     "output_type": "stream",
     "text": [
      "El factorial de 5 (no recursivo) es 120\n"
     ]
    }
   ],
   "source": [
    "def factorial(n):\n",
    "    resultado = 1\n",
    "    for i in range(1, n + 1):\n",
    "        resultado *= i\n",
    "    return resultado\n",
    "\n",
    "numero = 5\n",
    "resultado_no_recursivo = factorial(numero)\n",
    "print(f\"El factorial de {numero} (no recursivo) es {resultado_no_recursivo}\")\n"
   ]
  },
  {
   "cell_type": "markdown",
   "id": "309c46ba",
   "metadata": {},
   "source": [
    "En principio lo haciamos sin recursión pero ¿ y si os dijera que hay una forma de calcular esto y ahorraros lineas usando la propia función factorial()?"
   ]
  },
  {
   "cell_type": "code",
   "execution_count": 2,
   "id": "edc6c87c",
   "metadata": {},
   "outputs": [
    {
     "name": "stdout",
     "output_type": "stream",
     "text": [
      "El factorial de 5 (recursivo) es 120\n"
     ]
    }
   ],
   "source": [
    "def factorial(n):\n",
    "    if n == 0:\n",
    "        return 1  # factorial de 0 es 1\n",
    "    else:\n",
    "        return n * factorial(n - 1) #Aqui la recursividad\n",
    "\n",
    "numero = 5\n",
    "resultado_recursivo = factorial(numero)\n",
    "print(f\"El factorial de {numero} (recursivo) es {resultado_recursivo}\")"
   ]
  },
  {
   "cell_type": "markdown",
   "id": "a085ad99",
   "metadata": {},
   "source": [
    "**¿Qué clase de brujería es esta?** \n",
    "\n",
    "Venga, os explico:\n",
    "\n",
    "Vamos al caso del número 5. El factorial de un número es el producto de todos los números enteros positivos desde 1 hasta ese número. Para calcularlo de forma recursiva, hacemos lo siguiente:\n",
    "\n",
    "Caso Base: Primero, verificamos si el número es igual a 0 (n == 0). Si lo es, retornamos 1. Esto es importante para que la recursión tenga un punto de parada, de lo contrario, seguiríamos multiplicando sin fin.\n",
    "\n",
    "Caso Recursivo: Si el número no es igual a 0, multiplicamos ese número por el resultado del factorial del número más pequeño (n - 1). Esto es lo que hace que sea recursivo. En el caso de 5, multiplicamos 5 por el resultado del factorial de 4, que a su vez multiplica por el resultado del factorial de 3, y así sucesivamente.\n",
    "\n",
    "Continuamos retrocediendo a través de la recursión hasta llegar al caso base (cuando n es 0). Luego, los resultados se acumulan de regreso a través de las llamadas recursivas, y finalmente obtenemos el resultado completo, que es el factorial de 5.\n",
    "\n",
    "En otras palabras, en una función recursiva, se descompone el problema en partes más pequeñas y se resuelve una parte del problema en cada llamada, luego se combinan las soluciones para obtener la respuesta completa. La recursividad es como una especie de \"efecto dominó\" en el que cada pieza contribuye a la respuesta final.\n",
    "\n",
    "Para hacer algo divertido y que veais que esto tiene algún sentido, os dejo el ejemplo de hacer un espiral usando recursividad:"
   ]
  },
  {
   "cell_type": "code",
   "execution_count": 3,
   "id": "48e32e1e",
   "metadata": {},
   "outputs": [],
   "source": [
    "import turtle #Es una libreria para crear imagenes y formas en un canvas virtual "
   ]
  },
  {
   "cell_type": "code",
   "execution_count": 4,
   "id": "eb400d0c",
   "metadata": {},
   "outputs": [],
   "source": [
    "def dibujar_espiral(longitud, angulo):\n",
    "    if longitud > 0:\n",
    "        turtle.forward(longitud)\n",
    "        turtle.right(angulo)\n",
    "        dibujar_espiral(longitud - 5, angulo)  # ¡Recursividad!\n",
    "\n",
    "turtle.speed(0)  \n",
    "turtle.bgcolor(\"black\")\n",
    "turtle.color(\"white\")\n",
    "\n",
    "# Llamamos a la función con algun parametro\n",
    "dibujar_espiral(200, 90)\n",
    "\n",
    "# Ojo que si lo ejecutais, abre una ventana\n",
    "turtle.exitonclick()"
   ]
  },
  {
   "cell_type": "markdown",
   "id": "b1180991",
   "metadata": {},
   "source": [
    "**Ejercicios que podeis hacer con recursividad:** \n",
    "\n",
    "- Calcular la potencia de un número.\n",
    "- Encontrar el máximo común divisor (MCD) de dos números.\n",
    "- Imprimir los primeros n números de la secuencia de Fibonacci.\n",
    "- Verificar si una palabra es un palíndromo."
   ]
  }
 ],
 "metadata": {
  "kernelspec": {
   "display_name": "Python 3 (ipykernel)",
   "language": "python",
   "name": "python3"
  },
  "language_info": {
   "codemirror_mode": {
    "name": "ipython",
    "version": 3
   },
   "file_extension": ".py",
   "mimetype": "text/x-python",
   "name": "python",
   "nbconvert_exporter": "python",
   "pygments_lexer": "ipython3",
   "version": "3.11.4"
  }
 },
 "nbformat": 4,
 "nbformat_minor": 5
}
