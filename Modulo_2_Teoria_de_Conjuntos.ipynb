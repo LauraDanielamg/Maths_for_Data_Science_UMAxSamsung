{
 "cells": [
  {
   "cell_type": "markdown",
   "id": "3c03d528",
   "metadata": {},
   "source": [
    "# Modulo 2: Matemáticas para Data Science - Parte 1 \n",
    "\n",
    "En el emocionante mundo de la Ciencia de Datos, las matemáticas desempeñan un papel central y esencial. Para comprender, analizar y modelar datos de manera efectiva, es fundamental tener un sólido conocimiento de los conceptos matemáticos subyacentes. Este cuaderno se enfoca en brindar una introducción a las matemáticas básicas que son fundamentales para la Ciencia de Datos.\n",
    "\n",
    "Comenzaremos por explorar los conceptos matemáticos fundamentales en \"Basic Math for Data Science\", que sientan las bases para comprender conceptos más avanzados. Luego, nos sumergiremos en el mundo de los vectores y matrices, que son herramientas esenciales en el análisis de datos y el aprendizaje automático. Profundizaremos en cómo estas estructuras matemáticas se utilizan para representar y manipular datos de alta dimensión, lo que es esencial en la extracción de información significativa a partir de conjuntos de datos complejos.\n",
    "\n",
    "Finalmente, exploraremos el concepto de derivadas y su aplicación en \"Understanding Deep Learning: Derivatives\". Las derivadas son cruciales para comprender los algoritmos de aprendizaje profundo, que están en el corazón de muchas aplicaciones de Ciencia de Datos, como la visión por computadora y el procesamiento de lenguaje natural.\n",
    "\n",
    "*PERO...*\n",
    "\n",
    "Primero que todo es importante entender ciertas cosas que hemos estado aplicando, que son MATEMÁTICAS y quizá ni cuenta nos habiamos dado.\n",
    "\n",
    "## Teoria de Conjuntos:\n",
    "\n",
    "En la primera clase con Gabriel, nos hablo de la importancia de la *teoría de conjuntos* ¿Por qué?\n",
    "\n",
    "Verán ¡hemos estado todo el rato aplicándola!\n",
    "\n",
    "El resumen básico os lo dejo en 10 puntos: \n",
    "\n",
    "**1. Definición de Conjunto:** \n",
    "\n",
    "En matemáticas, un conjunto es una colección de objetos, números o elementos. Estos elementos pueden ser cualquier cosa, como números, letras, personas, animales, o incluso otros conjuntos."
   ]
  },
  {
   "cell_type": "code",
   "execution_count": 5,
   "id": "5c675faf",
   "metadata": {},
   "outputs": [
    {
     "name": "stdout",
     "output_type": "stream",
     "text": [
      "['rojo', 'verde', 'azul']\n",
      "<class 'list'>\n"
     ]
    }
   ],
   "source": [
    "#Esto no les suena un poco como...\n",
    "\n",
    "lista = ['rojo', 'verde', 'azul']\n",
    "print(lista) \n",
    "print(type(lista))"
   ]
  },
  {
   "cell_type": "markdown",
   "id": "c0315e32",
   "metadata": {},
   "source": [
    "Es lo mismo si hablamos por ejemplo del conjunto de numéros reales:\n",
    "\n",
    "`lista_de_numeros_reales = [1.5, 2.7, 3.14, 4.0, 5.25]`\n",
    "\n",
    "Evidementemente es imposible representarlos todos para para que os hagáis una idea: cuando nos hablaba de cosas que pertenecian a los conjuntos de numeros Reales, Racionales, Irracionales, Enteros o Naturales, os lo podéis imaginar como una lista enorme de numeros (o más que una lista, un set: ordenado y sin números repetidos)\n",
    "\n",
    "Cuando le preguntamos por un el tipo de un número, por ejemplo, \"2\", el ordenador verifica de alguna forma muy eficiente si esta en el conjunto de los enteros (**INT**egers) y te devuelve si es cierto o es falso y te devuelve un mensaje en consecuencia. Lo mismo con los flotantes, que serían decimales o \"Reales\" si nos ponemos técnicas.\n",
    "\n",
    "**2. Notación de Conjuntos:** \n",
    "\n",
    "Los conjuntos se representan generalmente entre llaves {}. Por ejemplo, el conjunto de números naturales menores que 5 se escribe como {1, 2, 3, 4}. Si un elemento pertenece a un conjunto, se usa el símbolo ∈. Por ejemplo, \"2 ∈ {1, 2, 3, 4}\" significa que el número 2 está en el conjunto.\n",
    "\n",
    "En python, tenemos nuestra propia notación para nuestros conjuntos. [] para listas y  {} para diccionarios y sets\n",
    "\n",
    "\n",
    "**3. Conjunto Vacío:** \n",
    "\n",
    "Existe un conjunto especial llamado \"conjunto vacío,\" que no contiene ningún elemento. Se denota como {} o ∅. Es como una bolsa vacía.\n",
    "\n",
    "¿Os suena..?\n",
    "\n",
    "```\n",
    "list = []\n",
    "\n",
    "set_= {}\n",
    "\n",
    "diccionario = {}\n",
    "```\n",
    "\n",
    "\n"
   ]
  },
  {
   "cell_type": "markdown",
   "id": "95fdd31b",
   "metadata": {},
   "source": [
    "**4. Cardinalidad:**  \n",
    "\n",
    "La cardinalidad de un conjunto es el número de elementos que contiene. Por ejemplo, la cardinalidad del conjunto {rojo, verde, azul} es 3.\n",
    "\n",
    "O lo que es lo mismo:"
   ]
  },
  {
   "cell_type": "code",
   "execution_count": 12,
   "id": "120a8694",
   "metadata": {},
   "outputs": [
    {
     "name": "stdout",
     "output_type": "stream",
     "text": [
      "La lista ['rojo', 'verde', 'azul'] tiene 3 elementos\n"
     ]
    }
   ],
   "source": [
    "lista = [\"rojo\", \"verde\", \"azul\"]\n",
    "\n",
    "print(\"La lista\", lista, \"tiene\", len(lista), \"elementos\")"
   ]
  },
  {
   "cell_type": "markdown",
   "id": "bcf1c5d3",
   "metadata": {},
   "source": [
    "**5. Subconjuntos:** \n",
    "Un conjunto A es un subconjunto de otro conjunto B si todos los elementos de A están también en B. Esto se denota como A ⊆ B. Por ejemplo, {rojo, verde} es un subconjunto de {rojo, verde, azul}.\n",
    "\n",
    "¿Lo vemos en código?"
   ]
  },
  {
   "cell_type": "code",
   "execution_count": 15,
   "id": "d3aa6d16",
   "metadata": {},
   "outputs": [
    {
     "name": "stdout",
     "output_type": "stream",
     "text": [
      "{'verde', 'rojo'} es un subconjunto de {'verde', 'rojo', 'azul'}: True\n",
      "Usando el método issubset(): True\n"
     ]
    }
   ],
   "source": [
    "conjunto1 = {\"rojo\", \"verde\"}\n",
    "conjunto2 = {\"rojo\", \"verde\", \"azul\"}\n",
    "\n",
    "es_subconjunto = conjunto1 <= conjunto2 #Variable booleana\n",
    "\n",
    "es_subconjunto_metodo = conjunto1.issubset(conjunto2) #Utilizando métodos, que devuelve un booleano\n",
    "\n",
    "print(f\"{conjunto1} es un subconjunto de {conjunto2}: {es_subconjunto}\")\n",
    "print(f\"Usando el método issubset(): {es_subconjunto_metodo}\")"
   ]
  },
  {
   "cell_type": "markdown",
   "id": "446010d4",
   "metadata": {},
   "source": [
    "**6. Unión de Conjuntos:** \n",
    "\n",
    "La unión de dos conjuntos, denotada como A ∪ B, es un nuevo conjunto que contiene todos los elementos que están en A o en B o en ambos. Por ejemplo, si A = {rojo, verde} y B = {azul, verde}, entonces A ∪ B = {rojo, verde, azul}.\n",
    "\n",
    "Aquí en código que seguro lo vemos mejor (ya que obviamente somos unas máquinas y ya no entendemos lenguaje natural):\n"
   ]
  },
  {
   "cell_type": "code",
   "execution_count": 17,
   "id": "32d0aa65",
   "metadata": {},
   "outputs": [
    {
     "name": "stdout",
     "output_type": "stream",
     "text": [
      "Unión de A y B usando el operador |: {'verde', 'rojo', 'azul'}\n",
      "Unión de A y B usando el método union(): {'verde', 'rojo', 'azul'}\n"
     ]
    }
   ],
   "source": [
    "conjunto_A = {\"rojo\", \"verde\"}\n",
    "conjunto_B = {\"azul\", \"verde\"}\n",
    "\n",
    "# Calcular la unión usando el operador |\n",
    "union_conjuntos = conjunto_A | conjunto_B\n",
    "\n",
    "# Calcular la unión usando el método union()\n",
    "union_conjuntos_metodo = conjunto_A.union(conjunto_B)\n",
    "\n",
    "print(f\"Unión de A y B usando el operador |: {union_conjuntos}\")\n",
    "print(f\"Unión de A y B usando el método union(): {union_conjuntos_metodo}\")"
   ]
  },
  {
   "cell_type": "markdown",
   "id": "55117ba3",
   "metadata": {},
   "source": [
    "**7. Intersección de Conjuntos:** \n",
    "\n",
    "La intersección de dos conjuntos, denotada como A ∩ B, es un nuevo conjunto que contiene solo los elementos que están en ambos A y B. Usando los conjuntos anteriores, A ∩ B = {verde}.\n",
    "\n",
    "O lo que es lo mismo..."
   ]
  },
  {
   "cell_type": "code",
   "execution_count": 18,
   "id": "8757fa5b",
   "metadata": {},
   "outputs": [
    {
     "name": "stdout",
     "output_type": "stream",
     "text": [
      "Intersección de A y B usando el operador &: {'verde'}\n",
      "Intersección de A y B usando el método intersection(): {'verde'}\n"
     ]
    }
   ],
   "source": [
    "# Calcular la intersección usando el operador &\n",
    "interseccion_conjuntos = conjunto_A & conjunto_B\n",
    "\n",
    "# Calcular la intersección usando el método intersection()\n",
    "interseccion_conjuntos_metodo = conjunto_A.intersection(conjunto_B)\n",
    "\n",
    "print(f\"Intersección de A y B usando el operador &: {interseccion_conjuntos}\")\n",
    "print(f\"Intersección de A y B usando el método intersection(): {interseccion_conjuntos_metodo}\")"
   ]
  },
  {
   "cell_type": "markdown",
   "id": "091bb8bf",
   "metadata": {},
   "source": [
    "**8. Diferencia de Conjuntos:** \n",
    "\n",
    "La diferencia de dos conjuntos, denotada como A - B, es un nuevo conjunto que contiene todos los elementos que están en A pero no en B. Siguiendo el ejemplo anterior, A - B = {rojo}."
   ]
  },
  {
   "cell_type": "code",
   "execution_count": 19,
   "id": "0338a4c3",
   "metadata": {},
   "outputs": [
    {
     "name": "stdout",
     "output_type": "stream",
     "text": [
      "Diferencia de A - B usando el operador -: {'rojo'}\n",
      "Diferencia de A - B usando el método difference(): {'rojo'}\n"
     ]
    }
   ],
   "source": [
    "# Calcular la diferencia usando el operador -\n",
    "diferencia_conjuntos = conjunto_A - conjunto_B\n",
    "\n",
    "# Calcular la diferencia usando el método difference()\n",
    "diferencia_conjuntos_metodo = conjunto_A.difference(conjunto_B)\n",
    "\n",
    "print(f\"Diferencia de A - B usando el operador -: {diferencia_conjuntos}\")\n",
    "print(f\"Diferencia de A - B usando el método difference(): {diferencia_conjuntos_metodo}\")"
   ]
  },
  {
   "cell_type": "markdown",
   "id": "94e0c6a9",
   "metadata": {},
   "source": [
    "**9. Complemento de un Conjunto:**\n",
    "\n",
    "El complemento de un conjunto A, denotado como A', es un conjunto que contiene todos los elementos que no están en A pero sí en el conjunto universal (un conjunto que contiene todos los elementos considerados). Por ejemplo, si consideramos como conjunto universal todos los colores posibles, entonces A' sería el conjunto de todos los colores excepto los que están en A.\n"
   ]
  },
  {
   "cell_type": "code",
   "execution_count": 20,
   "id": "f35cc806",
   "metadata": {},
   "outputs": [
    {
     "name": "stdout",
     "output_type": "stream",
     "text": [
      "Complemento de A (A'): {'amarillo', 'naranja', 'morado', 'azul'}\n"
     ]
    }
   ],
   "source": [
    "conjunto_A = {\"rojo\", \"verde\"}\n",
    "\n",
    "#Imaginemos que aqui tenemos todos los colores del mundo mundial\n",
    "conjunto_universal = {\"rojo\", \"verde\", \"azul\", \"amarillo\", \"naranja\", \"morado\"}\n",
    "\n",
    "complemento_A = conjunto_universal - conjunto_A\n",
    "\n",
    "print(f\"Complemento de A (A'): {complemento_A}\")"
   ]
  },
  {
   "cell_type": "markdown",
   "id": "ac39f897",
   "metadata": {},
   "source": [
    "**10. Conjuntos Disjuntos:**  \n",
    "    \n",
    "Dos conjuntos son disjuntos si no tienen elementos en común, es decir, su intersección es el conjunto vacío. Por ejemplo, si A = {rojo, verde} y B = {azul, amarillo}, A y B son conjuntos disjuntos."
   ]
  },
  {
   "cell_type": "code",
   "execution_count": 21,
   "id": "dfd689d2",
   "metadata": {},
   "outputs": [
    {
     "name": "stdout",
     "output_type": "stream",
     "text": [
      "A y B son conjuntos disjuntos.\n"
     ]
    }
   ],
   "source": [
    "conjunto_A = {\"rojo\", \"verde\"}\n",
    "conjunto_B = {\"azul\", \"amarillo\"}\n",
    "\n",
    "son_disjuntos = len(conjunto_A & conjunto_B) == 0\n",
    "\n",
    "if son_disjuntos:\n",
    "    print(\"A y B son conjuntos disjuntos.\")\n",
    "else:\n",
    "    print(\"A y B no son conjuntos disjuntos.\")"
   ]
  }
 ],
 "metadata": {
  "kernelspec": {
   "display_name": "Python 3 (ipykernel)",
   "language": "python",
   "name": "python3"
  },
  "language_info": {
   "codemirror_mode": {
    "name": "ipython",
    "version": 3
   },
   "file_extension": ".py",
   "mimetype": "text/x-python",
   "name": "python",
   "nbconvert_exporter": "python",
   "pygments_lexer": "ipython3",
   "version": "3.11.4"
  }
 },
 "nbformat": 4,
 "nbformat_minor": 5
}
