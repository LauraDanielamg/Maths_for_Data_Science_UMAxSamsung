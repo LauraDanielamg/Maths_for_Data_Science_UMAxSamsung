{
 "cells": [
  {
   "cell_type": "markdown",
   "id": "ded5fdac",
   "metadata": {},
   "source": [
    "# Ejercicios de repaso: Unidades 2, 3, 4\n",
    "* **Valor absoluto y Secuencias:**\n",
    "\n",
    "1. Escribe una función que tome una lista de números y devuelva otra lista con el valor absoluto de cada número en la lista original."
   ]
  },
  {
   "cell_type": "code",
   "execution_count": null,
   "id": "4ba01c3d",
   "metadata": {},
   "outputs": [],
   "source": [
    "#Tu codigo aqui"
   ]
  },
  {
   "cell_type": "markdown",
   "id": "0c22be54",
   "metadata": {},
   "source": [
    "2. Crea un programa que solicite al usuario el primer término (a_1), la diferencia común (d), y el número de términos (n) de una secuencia aritmética, y luego genere la secuencia y la sume."
   ]
  },
  {
   "cell_type": "code",
   "execution_count": null,
   "id": "477d7530",
   "metadata": {},
   "outputs": [],
   "source": [
    "#Tu codigo aqui"
   ]
  },
  {
   "cell_type": "markdown",
   "id": "32cd0a30",
   "metadata": {},
   "source": [
    "* **Conjuntos y Teoría de Conjuntos:**\n",
    "\n",
    "1. Define dos conjuntos A y B con elementos de tu elección. Luego, haz una función que calcule e imprima la unión, intersección y diferencia simétrica de A y B.\n",
    "\n",
    "**Unión (A ∪ B):** La unión de dos conjuntos A y B es un nuevo conjunto que contiene todos los elementos que están en A, en B o en ambos. En otras palabras, la unión combina todos los elementos únicos de ambos conjuntos en uno solo.\n",
    "\n",
    "Matemáticamente, la unión de A y B se representa como: A ∪ B = {x | x pertenece a A o x pertenece a B}\n",
    "\n",
    "**Intersección (A ∩ B):** La intersección de dos conjuntos A y B es un nuevo conjunto que contiene solo los elementos que están presentes en ambos A y B. En otras palabras, la intersección recopila los elementos comunes a ambos conjuntos.\n",
    "\n",
    "Matemáticamente, la intersección de A y B se representa como: A ∩ B = {x | x pertenece a A y x pertenece a B}\n",
    "\n",
    "**Diferencia Simétrica (A Δ B):** La diferencia simétrica de dos conjuntos A y B es un nuevo conjunto que contiene todos los elementos que están en A o en B, pero no en ambos. En otras palabras, la diferencia simétrica excluye los elementos que son comunes a ambos conjuntos.\n",
    "\n",
    "Matemáticamente, la diferencia simétrica de A y B se representa como: A Δ B = {x | (x pertenece a A o x pertenece a B) y no (x pertenece a A y x pertenece a B)}"
   ]
  },
  {
   "cell_type": "code",
   "execution_count": null,
   "id": "d6b72554",
   "metadata": {},
   "outputs": [],
   "source": [
    "#Tu codigo aqui"
   ]
  },
  {
   "cell_type": "markdown",
   "id": "57088e74",
   "metadata": {},
   "source": [
    "* Distancia Euclidiana:\n",
    "\n",
    "Escribe una función que calcule la distancia euclidiana entre dos puntos en un espacio bidimensional. Los puntos se pueden representar como tuplas (x1, y1) y (x2, y2).\n",
    "\n",
    "$$\n",
    "\\text{distancia} = \\sqrt{(x_2 - x_1)^2 + (y_2 - y_1)^2}\n",
    "$$\n",
    "\n",
    "Donde:\n",
    "\n",
    "(x1, y1) son las coordenadas del primer punto.\n",
    "\n",
    "(x2, y2) son las coordenadas del segundo punto.\n"
   ]
  },
  {
   "cell_type": "code",
   "execution_count": null,
   "id": "a0f4a018",
   "metadata": {},
   "outputs": [],
   "source": [
    "#Tu codigo aqui"
   ]
  },
  {
   "cell_type": "markdown",
   "id": "1b2dbd06",
   "metadata": {},
   "source": [
    "* Funciones:\n",
    "\n",
    "Crea una función que tome dos números como entrada y devuelva su suma y diferencia como una tupla."
   ]
  },
  {
   "cell_type": "code",
   "execution_count": null,
   "id": "9ea2bb56",
   "metadata": {},
   "outputs": [],
   "source": [
    "#Tu codigo aqui"
   ]
  },
  {
   "cell_type": "markdown",
   "id": "0bf40a18",
   "metadata": {},
   "source": [
    "* Matrices y Vectores:\n",
    "\n",
    "Define una matriz como una lista de listas. Luego, escribe una función que multiplique una matriz por un vector. Asegúrate de manejar adecuadamente las dimensiones de la matriz y el vector."
   ]
  },
  {
   "cell_type": "code",
   "execution_count": null,
   "id": "7dc0a555",
   "metadata": {},
   "outputs": [],
   "source": [
    "#Tu codigo aqui "
   ]
  }
 ],
 "metadata": {
  "kernelspec": {
   "display_name": "Python 3 (ipykernel)",
   "language": "python",
   "name": "python3"
  },
  "language_info": {
   "codemirror_mode": {
    "name": "ipython",
    "version": 3
   },
   "file_extension": ".py",
   "mimetype": "text/x-python",
   "name": "python",
   "nbconvert_exporter": "python",
   "pygments_lexer": "ipython3",
   "version": "3.11.4"
  }
 },
 "nbformat": 4,
 "nbformat_minor": 5
}
