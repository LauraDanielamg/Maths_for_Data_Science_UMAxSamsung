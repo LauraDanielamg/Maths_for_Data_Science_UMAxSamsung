{
 "cells": [
  {
   "cell_type": "markdown",
   "id": "c2559a69",
   "metadata": {},
   "source": [
    "# Ejercicios de repaso: Unidades 2, 3, 4  - RESUELTOS\n",
    "\n",
    "* **Valor absoluto y Secuencias:**\n",
    "\n",
    "1. Escribe una función que tome una lista de números y devuelva otra lista con el valor absoluto de cada número en la lista original."
   ]
  },
  {
   "cell_type": "code",
   "execution_count": 46,
   "id": "cb950160",
   "metadata": {},
   "outputs": [],
   "source": [
    "#Opción con list comprehension \n",
    "def valor_absoluto_lista(lista):\n",
    "    valores_absolutos = [abs(numero) for numero in lista]\n",
    "    return valores_absolutos\n",
    "\n",
    "#Opcion sin list comprehension\n",
    "def valor_absoluto_lista_2(lista):\n",
    "    valores_absolutos = []\n",
    "    for numero in lista:\n",
    "        valor_absoluto = abs(numero)\n",
    "        valores_absolutos.append(valor_absoluto)\n",
    "    return valores_absolutos \n",
    "\n",
    "#Opcion sin usar abs\n",
    "def valor_absoluto_lista_3(lista):\n",
    "    valores_absolutos = []\n",
    "    for numero in lista:\n",
    "        if numero < 0:\n",
    "            valor_absoluto = -numero\n",
    "        else:\n",
    "            valor_absoluto = numero\n",
    "        valores_absolutos.append(valor_absoluto)\n",
    "    return valores_absolutos"
   ]
  },
  {
   "cell_type": "code",
   "execution_count": 47,
   "id": "2d4a0997",
   "metadata": {},
   "outputs": [
    {
     "name": "stdout",
     "output_type": "stream",
     "text": [
      "Los resultados de la primera funcion son: [1, 2, 3, 4, 5]\n",
      "Los resultados de la segundo función son: [1, 2, 3, 4, 5]\n",
      "Los resultados de la segundo función son: [1, 2, 3, 4, 5]\n"
     ]
    }
   ],
   "source": [
    "numeros = [1, -2, 3, -4, 5]\n",
    "resultados = valor_absoluto_lista(numeros)\n",
    "resultados_2 = valor_absoluto_lista_2(numeros)\n",
    "resultados_3 = valor_absoluto_lista_3(numeros) \n",
    "\n",
    "print(\"Los resultados de la primera funcion son:\", resultados)\n",
    "print(\"Los resultados de la segundo función son:\", resultados_2)\n",
    "print(\"Los resultados de la segundo función son:\", resultados_3)\n"
   ]
  },
  {
   "cell_type": "markdown",
   "id": "ded2a5f5",
   "metadata": {},
   "source": [
    "2. Crea un programa que solicite al usuario el primer término (a_1), la diferencia común (d), y el número de términos (n) de una secuencia aritmética, y luego genere la secuencia y la sume."
   ]
  },
  {
   "cell_type": "code",
   "execution_count": 48,
   "id": "9469863d",
   "metadata": {},
   "outputs": [
    {
     "name": "stdout",
     "output_type": "stream",
     "text": [
      "Ingrese el primer término (a_1) de la secuencia aritmética: 0\n",
      "Ingrese la diferencia común (d) de la secuencia aritmética: 5\n",
      "Ingrese el número de términos (n) que desea calcular: 10\n",
      "Secuencia aritmética generada: [0.0, 5.0, 10.0, 15.0, 20.0, 25.0, 30.0, 35.0, 40.0, 45.0]\n",
      "La suma de los primeros 10 términos de la secuencia es: 225.0\n"
     ]
    }
   ],
   "source": [
    "# Solicitar al usuario el primer término, la diferencia común y el número de términos\n",
    "a_1 = float(input(\"Ingrese el primer término (a_1) de la secuencia aritmética: \"))\n",
    "d = float(input(\"Ingrese la diferencia común (d) de la secuencia aritmética: \"))\n",
    "n = int(input(\"Ingrese el número de términos (n) que desea calcular: \"))\n",
    "\n",
    "# Inicializar una lista para almacenar la secuencia\n",
    "secuencia_aritmetica = []\n",
    "\n",
    "# Generamos la secuencia aritmetica y la suma\n",
    "suma = 0\n",
    "for i in range(n):\n",
    "    termino = a_1 + i * d\n",
    "    secuencia_aritmetica.append(termino)\n",
    "    suma += termino\n",
    "\n",
    "# Imprimir la secuencia y la suma\n",
    "print(\"Secuencia aritmética generada:\", secuencia_aritmetica)\n",
    "print(\"La suma de los primeros\", n, \"términos de la secuencia es:\", suma)"
   ]
  },
  {
   "cell_type": "markdown",
   "id": "9cde790f",
   "metadata": {},
   "source": [
    "* **Conjuntos y Teoría de Conjuntos:**\n",
    "\n",
    "1. Define dos conjuntos A y B con elementos de tu elección. Luego, haz una función que calcule e imprima la unión, intersección y diferencia simétrica de A y B.\n",
    "\n",
    "**Unión (A ∪ B):** La unión de dos conjuntos A y B es un nuevo conjunto que contiene todos los elementos que están en A, en B o en ambos. En otras palabras, la unión combina todos los elementos únicos de ambos conjuntos en uno solo.\n",
    "\n",
    "Matemáticamente, la unión de A y B se representa como: A ∪ B = {x | x pertenece a A o x pertenece a B}\n",
    "\n",
    "**Intersección (A ∩ B):** La intersección de dos conjuntos A y B es un nuevo conjunto que contiene solo los elementos que están presentes en ambos A y B. En otras palabras, la intersección recopila los elementos comunes a ambos conjuntos.\n",
    "\n",
    "Matemáticamente, la intersección de A y B se representa como: A ∩ B = {x | x pertenece a A y x pertenece a B}\n",
    "\n",
    "**Diferencia Simétrica (A Δ B):** La diferencia simétrica de dos conjuntos A y B es un nuevo conjunto que contiene todos los elementos que están en A o en B, pero no en ambos. En otras palabras, la diferencia simétrica excluye los elementos que son comunes a ambos conjuntos.\n",
    "\n",
    "Matemáticamente, la diferencia simétrica de A y B se representa como: A Δ B = {x | (x pertenece a A o x pertenece a B) y no (x pertenece a A y x pertenece a B)}"
   ]
  },
  {
   "cell_type": "code",
   "execution_count": 49,
   "id": "7f3884a5",
   "metadata": {},
   "outputs": [],
   "source": [
    "#Usando union, intersection y symmetric_difference\n",
    "def operaciones_con_conjuntos(A, B):\n",
    "    # Unión de A y B\n",
    "    union = A.union(B)\n",
    "    \n",
    "    # Intersección de A y B\n",
    "    interseccion = A.intersection(B)\n",
    "    \n",
    "    # Diferencia simétrica de A y B\n",
    "    diferencia_simetrica = A.symmetric_difference(B)\n",
    "    \n",
    "    return union, interseccion, diferencia_simetrica\n",
    "\n",
    "#Solución sin union, intersection ni symetric_difference\n",
    "def operaciones_con_conjuntos_2(A, B):\n",
    "    # Unión de A y B\n",
    "    union = A.copy()\n",
    "    union.update(B)\n",
    "    \n",
    "    # Intersección de A y B\n",
    "    interseccion = {x for x in A if x in B}\n",
    "    \n",
    "    # Diferencia simétrica de A y B\n",
    "    diferencia_simetrica = (A - interseccion) | (B - interseccion)\n",
    "    \n",
    "    return union, interseccion, diferencia_simetrica\n",
    "\n",
    "#Usando solo operadores básicos\n",
    "def operaciones_con_conjuntos_3(A, B):\n",
    "    union = A | B\n",
    "    \n",
    "    interseccion = A & B\n",
    "    \n",
    "    diferencia_simetrica = (A - interseccion) | (B - interseccion)\n",
    "    \n",
    "    return union, interseccion, diferencia_simetrica"
   ]
  },
  {
   "cell_type": "code",
   "execution_count": 50,
   "id": "35998c47",
   "metadata": {},
   "outputs": [
    {
     "name": "stdout",
     "output_type": "stream",
     "text": [
      "Unión de A y B: {1, 2, 3, 4, 5, 6, 7}\n",
      "Intersección de A y B: {3, 4, 5}\n",
      "Diferencia simétrica de A y B: {1, 2, 6, 7}\n"
     ]
    }
   ],
   "source": [
    "# Definir conjuntos A y B\n",
    "A = {1, 2, 3, 4, 5}\n",
    "B = {3, 4, 5, 6, 7}\n",
    "\n",
    "# Llamar a la función y obtener los resultados\n",
    "resultado_union, resultado_interseccion, resultado_diferencia = operaciones_con_conjuntos(A, B)\n",
    "\n",
    "# Imprimir los resultados\n",
    "print(\"Unión de A y B:\", resultado_union)\n",
    "print(\"Intersección de A y B:\", resultado_interseccion)\n",
    "print(\"Diferencia simétrica de A y B:\", resultado_diferencia)"
   ]
  },
  {
   "cell_type": "markdown",
   "id": "c3cb0354",
   "metadata": {},
   "source": [
    "* Distancia Euclidiana:\n",
    "\n",
    "Escribe una función que calcule la distancia euclidiana entre dos puntos en un espacio bidimensional. Los puntos se pueden representar como tuplas (x1, y1) y (x2, y2).\n",
    "\n",
    "$$\n",
    "\\text{distancia} = \\sqrt{(x_2 - x_1)^2 + (y_2 - y_1)^2}\n",
    "$$\n",
    "\n",
    "Donde:\n",
    "\n",
    "(x1, y1) son las coordenadas del primer punto.\n",
    "\n",
    "(x2, y2) son las coordenadas del segundo punto."
   ]
  },
  {
   "cell_type": "code",
   "execution_count": 51,
   "id": "145ef229",
   "metadata": {},
   "outputs": [],
   "source": [
    "import math\n",
    "\n",
    "def distancia_euclidiana(punto1, punto2):\n",
    "    x1, y1 = punto1\n",
    "    x2, y2 = punto2\n",
    "    distancia = math.sqrt((x2 - x1)**2 + (y2 - y1)**2)\n",
    "    return distancia"
   ]
  },
  {
   "cell_type": "code",
   "execution_count": 52,
   "id": "def74099",
   "metadata": {},
   "outputs": [
    {
     "name": "stdout",
     "output_type": "stream",
     "text": [
      "La distancia euclidiana entre los puntos A y B es: 5.0\n"
     ]
    }
   ],
   "source": [
    "punto_A = (1, 2)\n",
    "punto_B = (4, 6)\n",
    "dist = distancia_euclidiana(punto_A, punto_B)\n",
    "print(\"La distancia euclidiana entre los puntos A y B es:\", dist)"
   ]
  },
  {
   "cell_type": "markdown",
   "id": "359ead18",
   "metadata": {},
   "source": [
    "* Funciones:\n",
    "Crea una función que tome dos números como entrada y devuelva su suma y diferencia como una tupla.\n"
   ]
  },
  {
   "cell_type": "code",
   "execution_count": 53,
   "id": "0019a8ed",
   "metadata": {},
   "outputs": [],
   "source": [
    "def suma_y_resta(num1, num2):\n",
    "    suma = num1 + num2\n",
    "    resta = num1 - num2\n",
    "    return (suma, resta)"
   ]
  },
  {
   "cell_type": "code",
   "execution_count": 54,
   "id": "350cb185",
   "metadata": {},
   "outputs": [
    {
     "name": "stdout",
     "output_type": "stream",
     "text": [
      "Suma: 15\n",
      "Diferencia: 5\n"
     ]
    }
   ],
   "source": [
    "numero1 = 10\n",
    "numero2 = 5\n",
    "resultado = suma_y_resta(numero1, numero2)\n",
    "print(\"Suma:\", resultado[0])\n",
    "print(\"Diferencia:\", resultado[1])"
   ]
  },
  {
   "cell_type": "markdown",
   "id": "aeecbc53",
   "metadata": {},
   "source": [
    "* Matrices y Vectores:\n",
    "\n",
    "Define una matriz como una lista de listas. Luego, escribe una función que multiplique una matriz por un vector. Asegúrate de manejar adecuadamente las dimensiones de la matriz y el vector."
   ]
  },
  {
   "cell_type": "code",
   "execution_count": 55,
   "id": "e2a6e77c",
   "metadata": {},
   "outputs": [],
   "source": [
    "import numpy as np"
   ]
  },
  {
   "cell_type": "code",
   "execution_count": 56,
   "id": "af6f6c3c",
   "metadata": {},
   "outputs": [],
   "source": [
    "#Sin numpy\n",
    "def multiplicar_matriz_por_vector(matriz, vector):\n",
    "    # Control de que se pueda hacer la operacion\n",
    "    num_filas_matriz = len(matriz)\n",
    "    num_columnas_matriz = len(matriz[0])\n",
    "    if num_columnas_matriz != len(vector):\n",
    "        return \"No se pueden multiplicar debido a dimensiones incorrectas.\"\n",
    "\n",
    "    # Inicializa el resultado como una lista de ceros\n",
    "    resultado = [0] * num_filas_matriz\n",
    "\n",
    "    # Realiza la multiplicación\n",
    "    for i in range(num_filas_matriz):\n",
    "        for j in range(num_columnas_matriz):\n",
    "            resultado[i] += matriz[i][j] * vector[j]\n",
    "\n",
    "    return resultado\n",
    "\n",
    "#Con numpy \n",
    "def multiplicar_matriz_por_vector_2(matriz, vector):\n",
    "    # Control de que se pueda hacer la operacion\n",
    "    num_filas_matriz = len(matriz)\n",
    "    num_columnas_matriz = len(matriz[0])\n",
    "    if num_columnas_matriz != len(vector):\n",
    "        return \"No se pueden multiplicar debido a dimensiones incorrectas.\"\n",
    "    \n",
    "    matriz_np = np.array(matriz)\n",
    "    vector_np = np.array(vector)\n",
    "\n",
    "    resultado = np.dot(matriz_np, vector_np)  \n",
    "    return resultado"
   ]
  },
  {
   "cell_type": "code",
   "execution_count": 57,
   "id": "9bd95a2f",
   "metadata": {},
   "outputs": [
    {
     "name": "stdout",
     "output_type": "stream",
     "text": [
      "[20, 47]\n"
     ]
    }
   ],
   "source": [
    "matriz = [[1, 2, 3], [4, 5, 6]]\n",
    "vector = [2, 3, 4]\n",
    "\n",
    "resultado = multiplicar_matriz_por_vector(matriz, vector)\n",
    "print(resultado)"
   ]
  },
  {
   "cell_type": "markdown",
   "id": "f8da4fd9",
   "metadata": {},
   "source": [
    "En Python, no puedes realizar la multiplicación de una matriz por un vector simplemente usando el operador * entre la matriz y el vector de la misma manera que lo harías con números escalar. Esto se debe a que el operador * en Python no está sobrecargado para realizar operaciones de multiplicación matricial. En cambio, el operador * entre una lista y un número realizaría una repetición de la lista, pero no realizaría una multiplicación matricial.\n",
    "\n",
    "La razón por la que no puedes usar * para multiplicar una matriz por un vector es porque las matrices y los vectores son estructuras de datos más complejas en comparación con los números escalares, y la multiplicación matricial implica una lógica más avanzada que no está incorporada en el operador *. Para llevar a cabo operaciones de álgebra lineal como la multiplicación de una matriz por un vector, es necesario utilizar bibliotecas especializadas como NumPy en Python, que implementan las operaciones de manera eficiente y correctamente."
   ]
  },
  {
   "cell_type": "code",
   "execution_count": null,
   "id": "2bc1b73a",
   "metadata": {},
   "outputs": [],
   "source": []
  }
 ],
 "metadata": {
  "kernelspec": {
   "display_name": "Python 3 (ipykernel)",
   "language": "python",
   "name": "python3"
  },
  "language_info": {
   "codemirror_mode": {
    "name": "ipython",
    "version": 3
   },
   "file_extension": ".py",
   "mimetype": "text/x-python",
   "name": "python",
   "nbconvert_exporter": "python",
   "pygments_lexer": "ipython3",
   "version": "3.11.4"
  }
 },
 "nbformat": 4,
 "nbformat_minor": 5
}
